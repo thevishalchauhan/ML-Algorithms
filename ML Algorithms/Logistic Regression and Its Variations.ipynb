{
 "cells": [
  {
   "cell_type": "markdown",
   "metadata": {},
   "source": [
    "## 1. Logistic Regression"
   ]
  },
  {
   "cell_type": "markdown",
   "metadata": {},
   "source": [
    "**The Similarities between Linear Regression and Logistic Regression**\n",
    "- Linear Regression and Logistic Regression both are supervised Machine Learning algorithms.\n",
    "- Linear Regression and Logistic Regression, both the models are parametric regression i.e. both the models use linear equations for predictions\n",
    "\n",
    "**The Differences between Linear Regression and Logistic Regression**\n",
    "\n",
    "- Linear Regression is used to handle regression problems whereas Logistic regression is used to handle the classification problems.\n",
    "- Linear regression provides a continuous output but Logistic regression provides discreet output.\n",
    "- The purpose of Linear Regression is to find the best-fitted line while Logistic regression is one step ahead and fitting the line values to the sigmoid curve.\n",
    "- The method for calculating loss function in linear regression is the mean squared error whereas for logistic regression it is maximum likelihood estimation."
   ]
  },
  {
   "cell_type": "code",
   "execution_count": null,
   "metadata": {},
   "outputs": [],
   "source": []
  },
  {
   "cell_type": "markdown",
   "metadata": {},
   "source": [
    "__Logistic regression__ is a classification algorithm traditionally limited to only two-class classification problems.\n",
    "\n",
    "If you have more than two classes then __Linear Discriminant Analysis__ is the preferred linear classification technique."
   ]
  },
  {
   "cell_type": "markdown",
   "metadata": {},
   "source": [
    "__Limitations of Logistic Regression__\n",
    "Logistic regression is a simple and powerful linear classification algorithm. It also has limitations that suggest at the need for alternate linear classification algorithms.\n",
    "\n",
    "- __Two-Class Problems__: Logistic regression is intended for two-class or binary classification problems. It can be extended for multi-class classification, but is rarely used for this purpose.\n",
    "- __Unstable With Well Separated Classes__: Logistic regression can become unstable when the classes are well separated.\n",
    "- __Unstable With Few Example__: Logistic regression can become unstable when there are few examples from which to estimate the parameters."
   ]
  },
  {
   "cell_type": "code",
   "execution_count": null,
   "metadata": {},
   "outputs": [],
   "source": []
  }
 ],
 "metadata": {
  "kernelspec": {
   "display_name": "Python 3",
   "language": "python",
   "name": "python3"
  },
  "language_info": {
   "codemirror_mode": {
    "name": "ipython",
    "version": 3
   },
   "file_extension": ".py",
   "mimetype": "text/x-python",
   "name": "python",
   "nbconvert_exporter": "python",
   "pygments_lexer": "ipython3",
   "version": "3.6.10"
  }
 },
 "nbformat": 4,
 "nbformat_minor": 4
}
