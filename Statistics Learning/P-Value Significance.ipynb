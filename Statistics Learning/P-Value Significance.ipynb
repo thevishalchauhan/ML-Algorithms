{
 "cells": [
  {
   "cell_type": "markdown",
   "metadata": {},
   "source": [
    "__P-value in Linear Regression__\n",
    "Suppose a child in the family goes to the school daily and one day, his teacher writes to his mother in the school diary that your son is very naughty and he was found fighting with another kid. This situation is quite common in schools and like any mother, this child’s mother says no my son is not naughty, it must have been the other kid who provoked him. Simple…agreed?\n",
    "\n",
    "Now, if you wish to do a Hypothesis test whether this child is really naughty or not, you would presume that he is actually naughty (that would be your hypothesis of interest) but you would try to formulate another hypothesis opposite to this (i.e. your Null Hypothesis) that says that the child is not naughty.\n",
    "\n",
    " #### So your two hypotheses would be:\n",
    "- __Null: The child is not naughty__\n",
    "- __Alternative: The child is naughty__\n",
    "\n",
    "Then you would try to find evidence by collecting data and putting it to test.\n",
    "Coming back to the story from the child’s school…\n",
    "\n",
    "After some days, there is another complaint from the school of this child fighting with another kid and, again the mother of the kid in question does not accept the fault of her child.\n",
    "\n",
    "The situation repeats itself again with this kid the third time with a third kid and now the mother becomes suspicious as to probably her child is really naughty.\n",
    "\n",
    "Interestingly, this third instance in our example actually becomes what is __Statistically called the Threshold of Significance (or the level of significance).__\n",
    "\n",
    "\n",
    "When the same child again is reported to fight with another kid, the mother has no other option but to accept that her child is really naughty and he finds ways to fight with other kids. This is actually when it is said that the evidence is “Statistically Significant”. This is accepted to be significant since it has occurred beyond the level of significance."
   ]
  },
  {
   "cell_type": "code",
   "execution_count": null,
   "metadata": {},
   "outputs": [],
   "source": []
  }
 ],
 "metadata": {
  "kernelspec": {
   "display_name": "Python 3",
   "language": "python",
   "name": "python3"
  },
  "language_info": {
   "codemirror_mode": {
    "name": "ipython",
    "version": 3
   },
   "file_extension": ".py",
   "mimetype": "text/x-python",
   "name": "python",
   "nbconvert_exporter": "python",
   "pygments_lexer": "ipython3",
   "version": "3.6.10"
  }
 },
 "nbformat": 4,
 "nbformat_minor": 4
}
