{
 "cells": [
  {
   "cell_type": "code",
   "execution_count": 1,
   "metadata": {},
   "outputs": [],
   "source": [
    "#Some distribution use critical value instead of p-value"
   ]
  },
  {
   "cell_type": "code",
   "execution_count": 2,
   "metadata": {},
   "outputs": [
    {
     "name": "stdout",
     "output_type": "stream",
     "text": [
      "1.6448536269514722\n",
      "0.95\n"
     ]
    }
   ],
   "source": [
    "#Gaussian Critical Value\n",
    "from scipy.stats import norm\n",
    "p = 0.95 #prob\n",
    "value = norm.ppf(p)\n",
    "print(value)\n",
    "\n",
    "p = norm.cdf(value)\n",
    "print(p)"
   ]
  },
  {
   "cell_type": "code",
   "execution_count": 5,
   "metadata": {},
   "outputs": [
    {
     "name": "stdout",
     "output_type": "stream",
     "text": [
      "1.8124611228107335\n",
      "0.949999999999923\n"
     ]
    }
   ],
   "source": [
    "# Student's T critical value\n",
    "from scipy.stats import t\n",
    "p = 0.95\n",
    "dof = 10\n",
    "#retrieve value<=prob\n",
    "value = t.ppf(p,dof)\n",
    "print(value)\n",
    "p = t.cdf(value,dof)\n",
    "print(p)#confirmation with p = .95"
   ]
  },
  {
   "cell_type": "code",
   "execution_count": 8,
   "metadata": {},
   "outputs": [
    {
     "name": "stdout",
     "output_type": "stream",
     "text": [
      "18.307038053275146\n",
      "0.95\n"
     ]
    }
   ],
   "source": [
    "#Chi2 Squared Critical Value\n",
    "from scipy.stats import chi2\n",
    "\n",
    "p =0.95\n",
    "dof = 10\n",
    "value = chi2.ppf(p,dof)\n",
    "print(value)\n",
    "\n",
    "p = chi2.cdf(value,dof)\n",
    "print(p)"
   ]
  },
  {
   "cell_type": "markdown",
   "metadata": {},
   "source": [
    "### Next\n",
    "- Calculate critical values for 90%, 95% and 99% for each of the Gaussian, Student's t, and Chi-Squared distributions.\n",
    "- Develop an example to calculate critical values from another distribution, such as the F distribution.\n",
    "- Write code to calculate a p-value from a critical value for each of the Gaussian, Student's t, and Chi-Squared distributions."
   ]
  },
  {
   "cell_type": "code",
   "execution_count": null,
   "metadata": {},
   "outputs": [],
   "source": []
  }
 ],
 "metadata": {
  "kernelspec": {
   "display_name": "Python 3",
   "language": "python",
   "name": "python3"
  },
  "language_info": {
   "codemirror_mode": {
    "name": "ipython",
    "version": 3
   },
   "file_extension": ".py",
   "mimetype": "text/x-python",
   "name": "python",
   "nbconvert_exporter": "python",
   "pygments_lexer": "ipython3",
   "version": "3.6.10"
  }
 },
 "nbformat": 4,
 "nbformat_minor": 4
}
